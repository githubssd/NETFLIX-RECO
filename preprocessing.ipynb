{
 "cells": [
  {
   "cell_type": "code",
   "execution_count": 1,
   "id": "d8b5903c",
   "metadata": {
    "_cell_guid": "b1076dfc-b9ad-4769-8c92-a6c4dae69d19",
    "_uuid": "8f2839f25d086af736a60e9eeb907d3b93b6e0e5",
    "execution": {
     "iopub.execute_input": "2023-07-13T12:59:48.305835Z",
     "iopub.status.busy": "2023-07-13T12:59:48.305451Z",
     "iopub.status.idle": "2023-07-13T13:01:40.625032Z",
     "shell.execute_reply": "2023-07-13T13:01:40.623880Z"
    },
    "papermill": {
     "duration": 112.330675,
     "end_time": "2023-07-13T13:01:40.631144",
     "exception": false,
     "start_time": "2023-07-13T12:59:48.300469",
     "status": "completed"
    },
    "tags": []
   },
   "outputs": [
    {
     "data": {
      "text/html": [
       "<div>\n",
       "<style scoped>\n",
       "    .dataframe tbody tr th:only-of-type {\n",
       "        vertical-align: middle;\n",
       "    }\n",
       "\n",
       "    .dataframe tbody tr th {\n",
       "        vertical-align: top;\n",
       "    }\n",
       "\n",
       "    .dataframe thead th {\n",
       "        text-align: right;\n",
       "    }\n",
       "</style>\n",
       "<table border=\"1\" class=\"dataframe\">\n",
       "  <thead>\n",
       "    <tr style=\"text-align: right;\">\n",
       "      <th></th>\n",
       "      <th>userId</th>\n",
       "      <th>rating</th>\n",
       "      <th>movieId</th>\n",
       "    </tr>\n",
       "  </thead>\n",
       "  <tbody>\n",
       "    <tr>\n",
       "      <th>0</th>\n",
       "      <td>1488844</td>\n",
       "      <td>3.0</td>\n",
       "      <td>1</td>\n",
       "    </tr>\n",
       "    <tr>\n",
       "      <th>1</th>\n",
       "      <td>822109</td>\n",
       "      <td>5.0</td>\n",
       "      <td>1</td>\n",
       "    </tr>\n",
       "    <tr>\n",
       "      <th>2</th>\n",
       "      <td>885013</td>\n",
       "      <td>4.0</td>\n",
       "      <td>1</td>\n",
       "    </tr>\n",
       "    <tr>\n",
       "      <th>3</th>\n",
       "      <td>30878</td>\n",
       "      <td>4.0</td>\n",
       "      <td>1</td>\n",
       "    </tr>\n",
       "    <tr>\n",
       "      <th>4</th>\n",
       "      <td>823519</td>\n",
       "      <td>3.0</td>\n",
       "      <td>1</td>\n",
       "    </tr>\n",
       "  </tbody>\n",
       "</table>\n",
       "</div>"
      ],
      "text/plain": [
       "    userId  rating movieId\n",
       "0  1488844     3.0       1\n",
       "1   822109     5.0       1\n",
       "2   885013     4.0       1\n",
       "3    30878     4.0       1\n",
       "4   823519     3.0       1"
      ]
     },
     "execution_count": 1,
     "metadata": {},
     "output_type": "execute_result"
    }
   ],
   "source": [
    "import pandas as pd\n",
    "\n",
    "# Read and concatenate the data files\n",
    "file_paths = ['/kaggle/input/netflix-prize-data/combined_data_1.txt'\n",
    "              , '/kaggle/input/netflix-prize-data/combined_data_2.txt'\n",
    "              ,'/kaggle/input/netflix-prize-data/combined_data_3.txt'\n",
    "              ,'/kaggle/input/netflix-prize-data/combined_data_4.txt'\n",
    "             ]\n",
    "\n",
    "dfs = []\n",
    "for file_path in file_paths:\n",
    "    df = pd.read_csv(file_path, header=None, names=['userId', 'rating'], usecols=[0, 1])\n",
    "    dfs.append(df)\n",
    "\n",
    "df = pd.concat(dfs, ignore_index=True)\n",
    "\n",
    "# Identify indices of NaN values in 'rating' column\n",
    "nan_indices = df[df['rating'].isna()].index.to_list()\n",
    "\n",
    "# Extract ratings data\n",
    "ratings = []\n",
    "for i in range(len(nan_indices)):\n",
    "    start_index = nan_indices[i] + 1\n",
    "    end_index = nan_indices[i + 1] - 1 if i + 1 < len(nan_indices) else None\n",
    "    temp_df = df.loc[start_index:end_index].reset_index(drop=True)\n",
    "    temp_df['movieId'] = df.loc[nan_indices[i], 'userId'][:-1]\n",
    "    ratings.append(temp_df)\n",
    "\n",
    "df = pd.concat(ratings, ignore_index=True)\n",
    "del ratings, dfs\n",
    "df.head()"
   ]
  },
  {
   "cell_type": "code",
   "execution_count": 2,
   "id": "345f14df",
   "metadata": {
    "execution": {
     "iopub.execute_input": "2023-07-13T13:01:40.639234Z",
     "iopub.status.busy": "2023-07-13T13:01:40.638828Z",
     "iopub.status.idle": "2023-07-13T13:02:41.698767Z",
     "shell.execute_reply": "2023-07-13T13:02:41.697626Z"
    },
    "papermill": {
     "duration": 61.06701,
     "end_time": "2023-07-13T13:02:41.701366",
     "exception": false,
     "start_time": "2023-07-13T13:01:40.634356",
     "status": "completed"
    },
    "tags": []
   },
   "outputs": [
    {
     "name": "stdout",
     "output_type": "stream",
     "text": [
      "top users proportion of total ratings :  51.81983307468781\n",
      "top movies proportion of total ratings :  0.7688015447613138\n"
     ]
    }
   ],
   "source": [
    "top_users = df['userId'].value_counts(normalize=True).reset_index()\n",
    "print('top users proportion of total ratings : ', top_users[:65000].userId.sum()*100)\n",
    "top_users = top_users[:65000]['index']\n",
    "\n",
    "top_movies = df['movieId'].value_counts(normalize=True).reset_index()\n",
    "print('top movies proportion of total ratings : ',top_movies[:1800].movieId.sum())\n",
    "top_movies = top_movies[:1800]['index']"
   ]
  },
  {
   "cell_type": "code",
   "execution_count": 3,
   "id": "bfa2d1c3",
   "metadata": {
    "execution": {
     "iopub.execute_input": "2023-07-13T13:02:41.709795Z",
     "iopub.status.busy": "2023-07-13T13:02:41.709430Z",
     "iopub.status.idle": "2023-07-13T13:03:21.422425Z",
     "shell.execute_reply": "2023-07-13T13:03:21.421262Z"
    },
    "papermill": {
     "duration": 39.722707,
     "end_time": "2023-07-13T13:03:21.427623",
     "exception": false,
     "start_time": "2023-07-13T13:02:41.704916",
     "status": "completed"
    },
    "tags": []
   },
   "outputs": [
    {
     "name": "stdout",
     "output_type": "stream",
     "text": [
      "100480507\n",
      "37193851\n"
     ]
    }
   ],
   "source": [
    "print(len(df))\n",
    "df = df[df['userId'].isin(top_users.to_list())]\n",
    "df = df[df['movieId'].isin(top_movies.to_list())]\n",
    "df.reset_index(drop=True, inplace=True)\n",
    "del top_movies, top_users \n",
    "print(len(df))"
   ]
  },
  {
   "cell_type": "code",
   "execution_count": 4,
   "id": "c18c745a",
   "metadata": {
    "execution": {
     "iopub.execute_input": "2023-07-13T13:03:21.437016Z",
     "iopub.status.busy": "2023-07-13T13:03:21.436580Z",
     "iopub.status.idle": "2023-07-13T13:06:18.469356Z",
     "shell.execute_reply": "2023-07-13T13:06:18.468066Z"
    },
    "papermill": {
     "duration": 177.041264,
     "end_time": "2023-07-13T13:06:18.472831",
     "exception": false,
     "start_time": "2023-07-13T13:03:21.431567",
     "status": "completed"
    },
    "tags": []
   },
   "outputs": [],
   "source": [
    "df.to_csv(\"/kaggle/working/netflix_interactions_lite.csv\")"
   ]
  },
  {
   "cell_type": "code",
   "execution_count": null,
   "id": "8d362206",
   "metadata": {
    "papermill": {
     "duration": 0.003746,
     "end_time": "2023-07-13T13:07:30.345499",
     "exception": false,
     "start_time": "2023-07-13T13:07:30.341753",
     "status": "completed"
    },
    "tags": []
   },
   "outputs": [],
   "source": []
  }
 ],
 "metadata": {
  "kernelspec": {
   "display_name": "Python 3",
   "language": "python",
   "name": "python3"
  },
  "language_info": {
   "codemirror_mode": {
    "name": "ipython",
    "version": 3
   },
   "file_extension": ".py",
   "mimetype": "text/x-python",
   "name": "python",
   "nbconvert_exporter": "python",
   "pygments_lexer": "ipython3",
   "version": "3.10.12"
  },
  "papermill": {
   "default_parameters": {},
   "duration": 475.632266,
   "end_time": "2023-07-13T13:07:33.476332",
   "environment_variables": {},
   "exception": null,
   "input_path": "__notebook__.ipynb",
   "output_path": "__notebook__.ipynb",
   "parameters": {},
   "start_time": "2023-07-13T12:59:37.844066",
   "version": "2.4.0"
  }
 },
 "nbformat": 4,
 "nbformat_minor": 5
}
